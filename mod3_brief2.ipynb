{
 "cells": [
  {
   "cell_type": "code",
   "execution_count": 5,
   "id": "7467476a",
   "metadata": {},
   "outputs": [],
   "source": [
    "from sklearn.datasets import make_regression\n",
    "from sklearn.model_selection import train_test_split\n",
    "from sklearn.preprocessing import StandardScaler\n",
    "import tensorflow as tf\n",
    "from tensorflow.keras import Sequential\n",
    "from tensorflow.keras.layers import Dense, Input\n",
    "import matplotlib.pyplot as plt\n",
    "import numpy as np"
   ]
  },
  {
   "cell_type": "code",
   "execution_count": 2,
   "id": "50a1d7d0",
   "metadata": {},
   "outputs": [],
   "source": [
    "# Données synthétiques\n",
    "X, y = make_regression(n_samples=500, n_features=6, noise=0.1, random_state=42)\n",
    "X = StandardScaler().fit_transform(X)\n",
    "X_train, X_test, y_train, y_test = train_test_split(X, y, test_size=0.2, random_state=42)\n",
    "\n",
    "# === MODELE 1 (3 features) ===\n",
    "X_train_old = X_train[:, :3]\n",
    "X_test_old = X_test[:, :3]\n",
    "\n",
    "model1 = Sequential([\n",
    "    Input(shape=(3,), name='input_3f'),\n",
    "    Dense(16, activation='relu', name='dense_1'),\n",
    "    Dense(8, activation='relu', name='dense_2'),\n",
    "    Dense(1, name='output')\n",
    "])\n",
    "model1.compile(optimizer='adam', loss='mse')\n",
    "\n",
    "history1 = model1.fit(X_train_old, y_train, epochs=30, batch_size=16, validation_split=0.2, verbose=0)\n"
   ]
  },
  {
   "cell_type": "code",
   "execution_count": 3,
   "id": "82ae9704",
   "metadata": {},
   "outputs": [],
   "source": [
    "# Sauvegarde du modèle complet\n",
    "model1.save(\"model1.keras\")"
   ]
  },
  {
   "cell_type": "code",
   "execution_count": 4,
   "id": "b48dc5f5",
   "metadata": {},
   "outputs": [],
   "source": [
    "# Courbes d'apprentissage modèle 1\n",
    "plt.figure(figsize=(10, 5))\n",
    "plt.plot(history1.history['loss'], label='train_loss')\n",
    "plt.plot(history1.history['val_loss'], label='val_loss')\n",
    "plt.title(\"Modèle 1 - 3 features\")\n",
    "plt.xlabel(\"Époques\")\n",
    "plt.ylabel(\"MSE Loss\")\n",
    "plt.legend()\n",
    "plt.grid(True)\n",
    "plt.savefig(\"loss_model1.jpg\")\n",
    "plt.close()"
   ]
  },
  {
   "cell_type": "code",
   "execution_count": 6,
   "id": "e6a11744",
   "metadata": {},
   "outputs": [],
   "source": [
    "# === MODELE 2 (6 features) ===\n",
    "model2 = Sequential([\n",
    "    Input(shape=(6,), name='input_6f'),\n",
    "    Dense(16, activation='relu', name='dense_1'),\n",
    "    Dense(8, activation='relu', name='dense_2'),\n",
    "    Dense(1, name='output')\n",
    "])"
   ]
  },
  {
   "cell_type": "code",
   "execution_count": 7,
   "id": "d7254a63",
   "metadata": {},
   "outputs": [
    {
     "name": "stdout",
     "output_type": "stream",
     "text": [
      "⛔ Incompatible ou nouvelle couche : dense_1\n",
      "✅ Poids transférés pour : dense_2\n",
      "✅ Poids transférés pour : output\n"
     ]
    }
   ],
   "source": [
    "# Charger le modèle 1 et transférer les poids compatibles\n",
    "model1_loaded = tf.keras.models.load_model(\"model1.keras\")\n",
    "\n",
    "for layer in model2.layers:\n",
    "    try:\n",
    "        old_layer = model1_loaded.get_layer(layer.name)\n",
    "        layer.set_weights(old_layer.get_weights())\n",
    "        print(f\"✅ Poids transférés pour : {layer.name}\")\n",
    "    except ValueError:\n",
    "        print(f\"⛔ Incompatible ou nouvelle couche : {layer.name}\")\n",
    "\n",
    "model2.compile(optimizer='adam', loss='mse')"
   ]
  },
  {
   "cell_type": "code",
   "execution_count": 8,
   "id": "5ec926c5",
   "metadata": {},
   "outputs": [],
   "source": [
    "# Entraînement du modèle avec les 6 features\n",
    "history2 = model2.fit(X_train, y_train, epochs=30, batch_size=16, validation_split=0.2, verbose=0)\n",
    "\n"
   ]
  },
  {
   "cell_type": "code",
   "execution_count": 9,
   "id": "d9c87ef8",
   "metadata": {},
   "outputs": [],
   "source": [
    "# Courbes d'apprentissage modèle 2\n",
    "plt.figure(figsize=(10, 5))\n",
    "plt.plot(history2.history['loss'], label='train_loss')\n",
    "plt.plot(history2.history['val_loss'], label='val_loss')\n",
    "plt.title(\"Modèle 2 - 6 features (avec transfert)\")\n",
    "plt.xlabel(\"Époques\")\n",
    "plt.ylabel(\"MSE Loss\")\n",
    "plt.legend()\n",
    "plt.grid(True)\n",
    "plt.savefig(\"loss_model2.jpg\")\n",
    "plt.close()"
   ]
  },
  {
   "cell_type": "code",
   "execution_count": null,
   "id": "9cd9e2cb",
   "metadata": {},
   "outputs": [
    {
     "name": "stdout",
     "output_type": "stream",
     "text": [
      "[<Dense name=dense, built=True>, <Dense name=dense_1, built=True>, <Dense name=dense_2, built=True>]\n"
     ]
    }
   ],
   "source": [
    "import joblib\n",
    "from os.path import join as join, exists\n",
    "#Load model_b1\n",
    "path = join('models', \"model_20250618_1652_0_None.pkl\")\n",
    "if exists(path):\n",
    "\tmodel_b1_loaded = joblib.load(path)\n",
    "\tprint(model_b1_loaded.layers)\n",
    "else:\n",
    "    print(f\"❌ File not found: {join('..', 'models', 'model_20250618_1652_0_None.pkl')}\")\n",
    "\n",
    "# les colonnes ajoutés sont \"nb_enfants\", \"quotient_caf\"\n",
    "# Il va falloir les ajouter à la main dans le modèle au bon endroit\n",
    "\n"
   ]
  },
  {
   "cell_type": "code",
   "execution_count": 2,
   "id": "afe2b073",
   "metadata": {},
   "outputs": [
    {
     "name": "stdout",
     "output_type": "stream",
     "text": [
      "✅ Poids layer : dense\n",
      "✅ Poids layer : dense_1\n",
      "✅ Poids layer : dense_2\n"
     ]
    }
   ],
   "source": [
    "for layer in model_b1_loaded.layers:\n",
    "    try:\n",
    "        # old_layer = model1_loaded.get_layer(layer.name)\n",
    "        # layer.set_weights(old_layer.get_weights())\n",
    "        print(f\"✅ Poids layer : {layer.name}\")\n",
    "    except ValueError:\n",
    "        print(f\"⛔ Incompatible ou nouvelle couche : {layer.name}\")"
   ]
  }
 ],
 "metadata": {
  "kernelspec": {
   "display_name": ".venv",
   "language": "python",
   "name": "python3"
  },
  "language_info": {
   "codemirror_mode": {
    "name": "ipython",
    "version": 3
   },
   "file_extension": ".py",
   "mimetype": "text/x-python",
   "name": "python",
   "nbconvert_exporter": "python",
   "pygments_lexer": "ipython3",
   "version": "3.10.0"
  }
 },
 "nbformat": 4,
 "nbformat_minor": 5
}
